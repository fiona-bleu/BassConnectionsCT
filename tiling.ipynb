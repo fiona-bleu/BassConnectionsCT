{
 "cells": [
  {
   "cell_type": "code",
   "execution_count": 1,
   "id": "e8b20e8d",
   "metadata": {},
   "outputs": [
    {
     "name": "stdout",
     "output_type": "stream",
     "text": [
      "Requirement already satisfied: rasterio in c:\\users\\biz yoder\\anaconda3\\lib\\site-packages (1.3.11)\n",
      "Requirement already satisfied: affine in c:\\users\\biz yoder\\anaconda3\\lib\\site-packages (from rasterio) (2.4.0)\n",
      "Requirement already satisfied: attrs in c:\\users\\biz yoder\\anaconda3\\lib\\site-packages (from rasterio) (22.1.0)\n",
      "Requirement already satisfied: certifi in c:\\users\\biz yoder\\anaconda3\\lib\\site-packages (from rasterio) (2024.2.2)\n",
      "Requirement already satisfied: click>=4.0 in c:\\users\\biz yoder\\anaconda3\\lib\\site-packages (from rasterio) (8.0.4)\n",
      "Requirement already satisfied: cligj>=0.5 in c:\\users\\biz yoder\\anaconda3\\lib\\site-packages (from rasterio) (0.7.2)\n",
      "Requirement already satisfied: numpy in c:\\users\\biz yoder\\anaconda3\\lib\\site-packages (from rasterio) (1.24.3)\n",
      "Requirement already satisfied: snuggs>=1.4.1 in c:\\users\\biz yoder\\anaconda3\\lib\\site-packages (from rasterio) (1.4.7)\n",
      "Requirement already satisfied: click-plugins in c:\\users\\biz yoder\\anaconda3\\lib\\site-packages (from rasterio) (1.1.1)\n",
      "Requirement already satisfied: setuptools in c:\\users\\biz yoder\\anaconda3\\lib\\site-packages (from rasterio) (68.0.0)\n",
      "Requirement already satisfied: colorama in c:\\users\\biz yoder\\anaconda3\\lib\\site-packages (from click>=4.0->rasterio) (0.4.6)\n",
      "Requirement already satisfied: pyparsing>=2.1.6 in c:\\users\\biz yoder\\anaconda3\\lib\\site-packages (from snuggs>=1.4.1->rasterio) (3.0.9)\n"
     ]
    }
   ],
   "source": [
    "!pip install rasterio"
   ]
  },
  {
   "cell_type": "code",
   "execution_count": 2,
   "id": "63b571d4",
   "metadata": {},
   "outputs": [
    {
     "name": "stdout",
     "output_type": "stream",
     "text": [
      "Requirement already satisfied: shapely in c:\\users\\biz yoder\\anaconda3\\lib\\site-packages (2.0.6)\n",
      "Requirement already satisfied: numpy<3,>=1.14 in c:\\users\\biz yoder\\anaconda3\\lib\\site-packages (from shapely) (1.24.3)\n"
     ]
    }
   ],
   "source": [
    "!pip install shapely"
   ]
  },
  {
   "cell_type": "code",
   "execution_count": 3,
   "id": "3dedbf3c",
   "metadata": {},
   "outputs": [
    {
     "name": "stdout",
     "output_type": "stream",
     "text": [
      "Requirement already satisfied: geopandas in c:\\users\\biz yoder\\anaconda3\\lib\\site-packages (1.0.1)\n",
      "Requirement already satisfied: numpy>=1.22 in c:\\users\\biz yoder\\anaconda3\\lib\\site-packages (from geopandas) (1.24.3)\n",
      "Requirement already satisfied: pyogrio>=0.7.2 in c:\\users\\biz yoder\\anaconda3\\lib\\site-packages (from geopandas) (0.9.0)\n",
      "Requirement already satisfied: packaging in c:\\users\\biz yoder\\anaconda3\\lib\\site-packages (from geopandas) (23.0)\n",
      "Requirement already satisfied: pandas>=1.4.0 in c:\\users\\biz yoder\\anaconda3\\lib\\site-packages (from geopandas) (1.5.3)\n",
      "Requirement already satisfied: pyproj>=3.3.0 in c:\\users\\biz yoder\\anaconda3\\lib\\site-packages (from geopandas) (3.6.1)\n",
      "Requirement already satisfied: shapely>=2.0.0 in c:\\users\\biz yoder\\anaconda3\\lib\\site-packages (from geopandas) (2.0.6)\n",
      "Requirement already satisfied: python-dateutil>=2.8.1 in c:\\users\\biz yoder\\anaconda3\\lib\\site-packages (from pandas>=1.4.0->geopandas) (2.8.2)\n",
      "Requirement already satisfied: pytz>=2020.1 in c:\\users\\biz yoder\\anaconda3\\lib\\site-packages (from pandas>=1.4.0->geopandas) (2022.7)\n",
      "Requirement already satisfied: certifi in c:\\users\\biz yoder\\anaconda3\\lib\\site-packages (from pyogrio>=0.7.2->geopandas) (2024.2.2)\n",
      "Requirement already satisfied: six>=1.5 in c:\\users\\biz yoder\\anaconda3\\lib\\site-packages (from python-dateutil>=2.8.1->pandas>=1.4.0->geopandas) (1.16.0)\n"
     ]
    }
   ],
   "source": [
    "!pip install geopandas"
   ]
  },
  {
   "cell_type": "code",
   "execution_count": 6,
   "id": "af16e4eb",
   "metadata": {},
   "outputs": [],
   "source": [
    "import rasterio\n",
    "import os\n",
    "from shapely.geometry import box\n",
    "import geopandas as gpd\n",
    "\n",
    "# Output must end in `.shp`\n",
    "def create_tile_shapefile(directory_with_tiled_data, output_shapefile_path):\n",
    "    # Get a list of all the file names\n",
    "    files = os.listdir(directory_with_tiled_data)\n",
    "    \n",
    "    # Create variables for storing the bounding boxes and ids\n",
    "    id = 0\n",
    "    boxes = []\n",
    "    ids = []\n",
    "    filenames = []\n",
    "    for file in files:\n",
    "        if file.endswith('.tif'):\n",
    "            filepath = directory_with_tiled_data + file\n",
    "            \n",
    "            # Read the file, gather the coordinate reference system and bounds and add them to a running list\n",
    "            with rasterio.open(filepath) as src:\n",
    "                crs = src.crs\n",
    "                bounds = src.bounds\n",
    "                boxes.append(box(bounds.left, bounds.bottom, bounds.right, bounds.top))\n",
    "                ids.append(id)\n",
    "                filenames.append(file)\n",
    "                id += 1\n",
    "    \n",
    "    # Assume the CRS for all of the files is the same and gather it\n",
    "    crs_wkt = crs.to_wkt()\n",
    "\n",
    "    # Create a geopandas geodataframe with one entry for each image\n",
    "    data = {\n",
    "        'id': ids,\n",
    "        'filename': filenames,\n",
    "        'geometry': boxes\n",
    "    }\n",
    "    df = gpd.GeoDataFrame(data, crs=crs_wkt)\n",
    "    \n",
    "    # Write that to shapefile\n",
    "    path = 'test.geojson'\n",
    "    df.to_file(output_shapefile_path)"
   ]
  },
  {
   "cell_type": "code",
   "execution_count": null,
   "id": "be576071",
   "metadata": {},
   "outputs": [],
   "source": [
    "directory_with_tiled_data = 'AP2023_TIFFs/'\n",
    "output_shapefile_path = 'tile_shapefile/mytiles.shp'\n",
    "create_tile_shapefile(directory_with_tiled_data, output_shapefile_path)"
   ]
  },
  {
   "cell_type": "code",
   "execution_count": null,
   "id": "1c1ee043",
   "metadata": {},
   "outputs": [],
   "source": []
  }
 ],
 "metadata": {
  "kernelspec": {
   "display_name": "Python 3 (ipykernel)",
   "language": "python",
   "name": "python3"
  },
  "language_info": {
   "codemirror_mode": {
    "name": "ipython",
    "version": 3
   },
   "file_extension": ".py",
   "mimetype": "text/x-python",
   "name": "python",
   "nbconvert_exporter": "python",
   "pygments_lexer": "ipython3",
   "version": "3.11.4"
  }
 },
 "nbformat": 4,
 "nbformat_minor": 5
}
